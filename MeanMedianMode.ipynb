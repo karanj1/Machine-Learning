{
 "cells": [
  {
   "cell_type": "markdown",
   "metadata": {},
   "source": [
    "# Mean, Median, Mode, and introducing NumPy"
   ]
  },
  {
   "cell_type": "markdown",
   "metadata": {},
   "source": [
    "## Mean vs. Median"
   ]
  },
  {
   "cell_type": "markdown",
   "metadata": {},
   "source": [
    "Let's create some fake income data, centered around 27,000 with a normal distribution and standard deviation of 15,000, with 10,000 data points. (We'll discuss those terms more later, if you're not familiar with them.)\n",
    "\n",
    "Then, compute the mean (average) - it should be close to 27,000:"
   ]
  },
  {
   "cell_type": "code",
   "execution_count": 2,
   "metadata": {
    "collapsed": false
   },
   "outputs": [
    {
     "data": {
      "text/plain": [
       "27108.865775559527"
      ]
     },
     "execution_count": 2,
     "metadata": {},
     "output_type": "execute_result"
    }
   ],
   "source": [
    "import numpy as np\n",
    "\n",
    "incomes = np.random.normal(27000, 15000, 10000)\n",
    "np.mean(incomes)"
   ]
  },
  {
   "cell_type": "markdown",
   "metadata": {},
   "source": [
    "We can segment the income data into 50 buckets, and plot it as a histogram:"
   ]
  },
  {
   "cell_type": "code",
   "execution_count": 2,
   "metadata": {
    "collapsed": false
   },
   "outputs": [
    {
     "data": {
      "image/png": "[encoded data removed]",
      "text/plain": [
       "<matplotlib.figure.Figure at 0x44ffdd8>"
      ]
     },
     "metadata": {},
     "output_type": "display_data"
    }
   ],
   "source": [
    "%matplotlib inline\n",
    "import matplotlib.pyplot as plt\n",
    "plt.hist(incomes, 50)\n",
    "plt.show()"
   ]
  },
  {
   "cell_type": "markdown",
   "metadata": {},
   "source": [
    "Now compute the median - since we have a nice, even distribution it too should be close to 27,000:"
   ]
  },
  {
   "cell_type": "code",
   "execution_count": 3,
   "metadata": {
    "collapsed": false
   },
   "outputs": [
    {
     "data": {
      "text/plain": [
       "27159.985229669175"
      ]
     },
     "execution_count": 3,
     "metadata": {},
     "output_type": "execute_result"
    }
   ],
   "source": [
    "np.median(incomes)"
   ]
  },
  {
   "cell_type": "markdown",
   "metadata": {},
   "source": [
    "Now we'll add Donald Trump into the mix. Darn income inequality!"
   ]
  },
  {
   "cell_type": "code",
   "execution_count": 4,
   "metadata": {
    "collapsed": false
   },
   "outputs": [],
   "source": [
    "incomes = np.append(incomes, [1000000000])"
   ]
  },
  {
   "cell_type": "markdown",
   "metadata": {},
   "source": [
    "The median won't change much, but the mean does:"
   ]
  },
  {
   "cell_type": "code",
   "execution_count": 5,
   "metadata": {
    "collapsed": false
   },
   "outputs": [
    {
     "data": {
      "text/plain": [
       "27163.131505581998"
      ]
     },
     "execution_count": 5,
     "metadata": {},
     "output_type": "execute_result"
    }
   ],
   "source": [
    "np.median(incomes)"
   ]
  },
  {
   "cell_type": "code",
   "execution_count": 6,
   "metadata": {
    "collapsed": false
   },
   "outputs": [
    {
     "data": {
      "text/plain": [
       "127160.38252311043"
      ]
     },
     "execution_count": 6,
     "metadata": {},
     "output_type": "execute_result"
    }
   ],
   "source": [
    "np.mean(incomes)"
   ]
  },
  {
   "cell_type": "markdown",
   "metadata": {},
   "source": [
    "## Mode"
   ]
  },
  {
   "cell_type": "markdown",
   "metadata": {},
   "source": [
    "Next, let's generate some fake age data for 500 people:"
   ]
  },
  {
   "cell_type": "code",
   "execution_count": 3,
   "metadata": {
    "collapsed": false
   },
   "outputs": [
    {
     "data": {
      "text/plain": [
       "array([40, 58, 82, 64, 43, 33, 46, 49, 39, 53, 43, 39, 72, 82, 44, 80, 51,\n",
       "       46, 89, 56, 81, 68, 48, 79, 35, 57, 57, 68, 20, 62, 52, 74, 19, 82,\n",
       "       43, 37, 44, 75, 79, 79, 53, 38, 20, 21, 89, 66, 62, 24, 56, 43, 64,\n",
       "       51, 42, 71, 52, 48, 23, 32, 39, 23, 86, 31, 25, 74, 86, 66, 79, 48,\n",
       "       18, 66, 40, 77, 51, 81, 56, 51, 48, 47, 38, 60, 87, 79, 33, 24, 78,\n",
       "       72, 31, 70, 62, 33, 71, 83, 58, 80, 83, 22, 86, 70, 47, 62, 23, 65,\n",
       "       23, 40, 33, 77, 31, 27, 35, 24, 34, 42, 20, 76, 38, 25, 19, 88, 49,\n",
       "       21, 45, 25, 55, 38, 59, 21, 54, 42, 26, 47, 41, 67, 58, 44, 42, 48,\n",
       "       52, 37, 86, 61, 50, 73, 86, 67, 43, 54, 39, 30, 58, 49, 22, 31, 20,\n",
       "       78, 59, 54, 48, 65, 33, 85, 62, 61, 83, 29, 50, 43, 78, 48, 25, 66,\n",
       "       87, 51, 46, 72, 30, 39, 34, 78, 88, 48, 49, 80, 51, 72, 29, 41, 70,\n",
       "       35, 75, 66, 48, 56, 47, 57, 79, 57, 70, 40, 21, 57, 28, 27, 40, 71,\n",
       "       64, 49, 86, 58, 55, 67, 71, 89, 39, 75, 80, 38, 53, 61, 32, 32, 33,\n",
       "       37, 28, 87, 25, 29, 40, 83, 83, 75, 18, 76, 38, 24, 82, 67, 47, 19,\n",
       "       80, 71, 21, 33, 52, 50, 46, 19, 45, 59, 67, 71, 28, 38, 86, 32, 67,\n",
       "       45, 43, 25, 28, 44, 50, 67, 20, 55, 48, 65, 65, 24, 36, 50, 43, 53,\n",
       "       68, 71, 60, 27, 60, 51, 55, 52, 47, 57, 61, 39, 74, 87, 29, 79, 74,\n",
       "       70, 45, 80, 54, 34, 57, 36, 33, 89, 55, 56, 86, 22, 67, 76, 80, 82,\n",
       "       53, 63, 42, 18, 20, 72, 65, 45, 37, 84, 84, 51, 52, 26, 26, 64, 31,\n",
       "       27, 60, 55, 33, 72, 85, 40, 42, 39, 59, 49, 51, 79, 33, 35, 57, 31,\n",
       "       41, 27, 77, 82, 29, 64, 56, 37, 88, 21, 66, 58, 58, 50, 46, 66, 34,\n",
       "       24, 18, 25, 77, 50, 30, 43, 32, 49, 89, 87, 87, 84, 49, 89, 29, 72,\n",
       "       19, 76, 84, 81, 61, 51, 22, 69, 53, 33, 32, 57, 30, 89, 49, 30, 55,\n",
       "       66, 56, 72, 41, 59, 71, 40, 73, 60, 86, 68, 65, 38, 33, 81, 74, 54,\n",
       "       34, 29, 73, 32, 27, 75, 76, 78, 88, 41, 32, 60, 19, 83, 40, 37, 68,\n",
       "       47, 51, 19, 72, 76, 82, 60, 49, 84, 73, 71, 23, 49, 29, 25, 23, 53,\n",
       "       75, 61, 34, 44, 50, 27, 45, 89, 38, 50, 68, 27, 43, 39, 71, 43, 53,\n",
       "       68, 54, 23, 67, 21, 21, 53, 41, 78, 19, 59, 55, 40, 59, 61, 30, 34,\n",
       "       85, 71, 30, 72, 46, 87, 20, 82, 27, 68, 31, 41, 35, 24, 48, 80, 31,\n",
       "       25, 26, 74, 65, 31, 22, 83])"
      ]
     },
     "execution_count": 3,
     "metadata": {},
     "output_type": "execute_result"
    }
   ],
   "source": [
    "ages = np.random.randint(18, high=90, size=500)\n",
    "ages"
   ]
  },
  {
   "cell_type": "code",
   "execution_count": 4,
   "metadata": {
    "collapsed": false
   },
   "outputs": [
    {
     "data": {
      "text/plain": [
       "ModeResult(mode=array([33]), count=array([12]))"
      ]
     },
     "execution_count": 4,
     "metadata": {},
     "output_type": "execute_result"
    }
   ],
   "source": [
    "from scipy import stats\n",
    "stats.mode(ages)"
   ]
  },
  {
   "cell_type": "code",
   "execution_count": null,
   "metadata": {
    "collapsed": false
   },
   "outputs": [],
   "source": []
  }
 ],
 "metadata": {
  "kernelspec": {
   "display_name": "Python 2",
   "language": "python",
   "name": "python2"
  },
  "language_info": {
   "codemirror_mode": {
    "name": "ipython",
    "version": 2
   },
   "file_extension": ".py",
   "mimetype": "text/x-python",
   "name": "python",
   "nbconvert_exporter": "python",
   "pygments_lexer": "ipython2",
   "version": "2.7.11"
  }
 },
 "nbformat": 4,
 "nbformat_minor": 0
}
